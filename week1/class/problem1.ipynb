{
 "cells": [
  {
   "cell_type": "code",
   "execution_count": 3,
   "metadata": {},
   "outputs": [
    {
     "name": "stdout",
     "output_type": "stream",
     "text": [
      "course:Intro to Python\n",
      "student:Hripsime Harutyunyan \n",
      "nickname:hho\n",
      "grade: 100\n",
      "python_expert: True\n"
     ]
    }
   ],
   "source": [
    "course = \"Intro to Python\"\n",
    "student = \"Hripsime Harutyunyan \"\n",
    "nickname = \"hho\"\n",
    "grade = 100\n",
    "python_expert = True\n",
    "print(\"course:\" + course)\n",
    "print(\"student:\" + student)\n",
    "print(\"nickname:\" + nickname)\n",
    "print(\"grade:\", grade)\n",
    "print(\"python_expert:\",python_expert)\n",
    "\n"
   ]
  },
  {
   "cell_type": "code",
   "execution_count": 6,
   "metadata": {},
   "outputs": [
    {
     "name": "stdout",
     "output_type": "stream",
     "text": [
      "The hypotenuse of the triangle ABC= 5.0\n"
     ]
    }
   ],
   "source": [
    "AB=3\n",
    "AC=4\n",
    "BC=(AB**2 +AC**2)**0.5\n",
    "print(\"The hypotenuse of the triangle ABC=\" , BC)\n"
   ]
  },
  {
   "cell_type": "code",
   "execution_count": null,
   "metadata": {},
   "outputs": [],
   "source": []
  }
 ],
 "metadata": {
  "kernelspec": {
   "display_name": "Python 3",
   "language": "python",
   "name": "python3"
  },
  "language_info": {
   "codemirror_mode": {
    "name": "ipython",
    "version": 3
   },
   "file_extension": ".py",
   "mimetype": "text/x-python",
   "name": "python",
   "nbconvert_exporter": "python",
   "pygments_lexer": "ipython3",
   "version": "3.7.4"
  }
 },
 "nbformat": 4,
 "nbformat_minor": 2
}
