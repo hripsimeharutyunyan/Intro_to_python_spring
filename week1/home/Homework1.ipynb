{
 "cells": [
  {
   "cell_type": "markdown",
   "metadata": {},
   "source": [
    "## Problem 1"
   ]
  },
  {
   "cell_type": "code",
   "execution_count": null,
   "metadata": {},
   "outputs": [],
   "source": [
    "project = \"cake\"\n",
    "difficulty = 4\n",
    "ingredients = [\"flour\",\"butter\", \"sugar\", \"eggs\", \"cocoa powder\", \"baking powder\"]\n",
    "print(\"apples\" in ingredients)\n",
    "print(\"butter\" in ingredients)\n",
    "print((\"eggs\" in ingredients) or (\"margarine\" in ingredients))\n",
    "print((\"eggs\"in ingredients) and (\"margarine\"in ingredients))\n",
    "flour= 175\n",
    "butter= 175\n",
    "sugar=\"100g\"\n",
    "eggs=2\n",
    "cocoa_powder= \"1ts\"\n",
    "baking_powder= 0.5\n",
    "print(type(flour),type(butter),type(sugar),type(eggs), type(cocoa_powder),type(baking_powder))\n",
    "print(\"Flour-\",flour,\"g\")\n",
    "print(\"Butter-\",butter,\"g\")\n",
    "print(\"Sugar- \" + sugar)\n",
    "print(\"Eggs-\", eggs)\n",
    "print(\"Cocoa powder- \" + cocoa_powder)\n",
    "print(\"Baking powder-\", baking_powder)\n"
   ]
  },
  {
   "cell_type": "markdown",
   "metadata": {},
   "source": [
    "## Problem 3"
   ]
  },
  {
   "cell_type": "code",
   "execution_count": 26,
   "metadata": {},
   "outputs": [
    {
     "name": "stdout",
     "output_type": "stream",
     "text": [
      "1003.0\n",
      "852\n"
     ]
    }
   ],
   "source": [
    "a = 15\n",
    "b = 8\n",
    "c = 2\n",
    "d = 5*a**2 - a*b + (a%2) - a/5\n",
    "e = b**3 + 3*a*b - 10*c\n",
    "print(d)\n",
    "print(e)\n"
   ]
  },
  {
   "cell_type": "markdown",
   "metadata": {},
   "source": [
    "## Problem 4"
   ]
  },
  {
   "cell_type": "code",
   "execution_count": 75,
   "metadata": {},
   "outputs": [
    {
     "name": "stdout",
     "output_type": "stream",
     "text": [
      "number=78\n",
      "number is even\n"
     ]
    }
   ],
   "source": [
    "\n",
    "if int(input(\"number=\"))%2==0:\n",
    "    print(\"number is even\")\n",
    "else:\n",
    "        print(\"number is odd\")"
   ]
  },
  {
   "cell_type": "code",
   "execution_count": 79,
   "metadata": {},
   "outputs": [
    {
     "name": "stdout",
     "output_type": "stream",
     "text": [
      "number-45\n",
      "number is even or odd - odd\n"
     ]
    },
    {
     "data": {
      "text/plain": [
       "'odd'"
      ]
     },
     "execution_count": 79,
     "metadata": {},
     "output_type": "execute_result"
    }
   ],
   "source": [
    "input(\"number-\")\n",
    "input(\"number is even or odd - \")"
   ]
  },
  {
   "cell_type": "code",
   "execution_count": null,
   "metadata": {},
   "outputs": [],
   "source": []
  }
 ],
 "metadata": {
  "kernelspec": {
   "display_name": "Python 3",
   "language": "python",
   "name": "python3"
  },
  "language_info": {
   "codemirror_mode": {
    "name": "ipython",
    "version": 3
   },
   "file_extension": ".py",
   "mimetype": "text/x-python",
   "name": "python",
   "nbconvert_exporter": "python",
   "pygments_lexer": "ipython3",
   "version": "3.7.4"
  }
 },
 "nbformat": 4,
 "nbformat_minor": 2
}
