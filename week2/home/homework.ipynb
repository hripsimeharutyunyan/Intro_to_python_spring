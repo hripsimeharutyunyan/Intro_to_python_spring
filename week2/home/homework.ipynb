{
 "cells": [
  {
   "cell_type": "code",
   "execution_count": 1,
   "metadata": {},
   "outputs": [
    {
     "name": "stdout",
     "output_type": "stream",
     "text": [
      "Current date:  2020-03-26 19:09:00.127056\n",
      "Given years: 3\n",
      "Given days: 5\n",
      "Final date:  2023-03-31 19:09:00.127056\n"
     ]
    }
   ],
   "source": [
    "import datetime\n",
    "today=datetime.datetime.today()\n",
    "print(\"Current date: \", today)\n",
    "years=input(\"Given years: \")\n",
    "days=input(\"Given days: \")\n",
    "num_y=datetime.timedelta(days=365*int(years))\n",
    "num_d=datetime.timedelta(days=int(days))\n",
    "print(\"Final date: \",today+num_y+ num_d)\n",
    "\n",
    "\n",
    "\n"
   ]
  },
  {
   "cell_type": "code",
   "execution_count": 2,
   "metadata": {},
   "outputs": [
    {
     "name": "stdout",
     "output_type": "stream",
     "text": [
      "The value inputted by the user should be 7 or more characters long and should have an odd number of characters\n",
      "The old string: asdfghjklqwer\n",
      "Middle 3 characters:  hjk\n",
      "The new string: asdfgHJKlqwer\n"
     ]
    }
   ],
   "source": [
    "print(\"The value inputted by the user should be 7 or more characters long and should have an odd number of characters\")\n",
    "text=input(\"The old string: \")\n",
    "num= int((len(text))/2)-1\n",
    "print(\"Middle 3 characters: \", text[num:num+3])\n",
    "text1= text[num:num+3]\n",
    "print (\"The new string: \"+text[:num]+text1.upper()+text[num+3:])"
   ]
  },
  {
   "cell_type": "code",
   "execution_count": 3,
   "metadata": {},
   "outputs": [
    {
     "name": "stdout",
     "output_type": "stream",
     "text": [
      "The given text: This text is a sample text.\n",
      "First word: text\n",
      "Second word: image\n",
      "This image is a sample image.\n"
     ]
    }
   ],
   "source": [
    "text= input(\"The given text: \")\n",
    "first_word=input(\"First word: \")\n",
    "second_word=input(\"Second word: \")\n",
    "print(text.replace(first_word, second_word))\n"
   ]
  },
  {
   "cell_type": "code",
   "execution_count": 4,
   "metadata": {},
   "outputs": [
    {
     "name": "stdout",
     "output_type": "stream",
     "text": [
      "The given text: Welcome to USA. usa is awesome, isn’t it?\n",
      "The USA/usa count is:  2\n",
      "The new string:  welcome to Armenia. Armenia is awesome, isn’t it?\n"
     ]
    }
   ],
   "source": [
    "text=input(\"The given text: \")\n",
    "text1=text.lower()\n",
    "print(\"The USA/usa count is: \", text1.count(\"usa\"))\n",
    "print(\"The new string: \", text1.replace(\"usa\", \"Armenia\"))"
   ]
  },
  {
   "cell_type": "code",
   "execution_count": 5,
   "metadata": {},
   "outputs": [
    {
     "name": "stdout",
     "output_type": "stream",
     "text": [
      "Birthday:  1995-03-21 00:00:00\n",
      "Year:  1995\n",
      "Month:  3\n",
      "Day:  21\n",
      "Week:  2\n",
      "Days until my next birthday:  -6 days, 4:49:02.539150\n",
      "      May 2017\n",
      "Mo Tu We Th Fr Sa Su\n",
      " 1  2  3  4  5  6  7\n",
      " 8  9 10 11 12 13 14\n",
      "15 16 17 18 19 20 21\n",
      "22 23 24 25 26 27 28\n",
      "29 30 31\n",
      "\n",
      "Yesterday:  2020-03-25 19:10:57.460850\n",
      "Yesterday + 2 days: 2020-03-27 19:10:57.460850\n",
      "Yesterday - 3 days: 2020-03-22 19:10:57.460850\n"
     ]
    }
   ],
   "source": [
    "import datetime\n",
    "import time\n",
    "import calendar\n",
    "birthday= datetime.datetime(1995,3,21)\n",
    "print(\"Birthday: \", birthday)\n",
    "print(\"Year: \", birthday.year)\n",
    "print(\"Month: \", birthday.month)\n",
    "print (\"Day: \", birthday.day)\n",
    "print(\"Week: \", birthday.isoweekday())\n",
    "birthday2020= datetime.datetime(2020,3,21)\n",
    "tday= datetime.datetime.today()\n",
    "print(\"Days until my next birthday: \", birthday2020-tday)\n",
    "print(calendar.month(2017,5))\n",
    "timedelta1= datetime.timedelta(days=1)\n",
    "timedelta2= datetime.timedelta(days=2)\n",
    "timedelta3= datetime.timedelta(days=3)\n",
    "yesterday=tday-timedelta1\n",
    "print(\"Yesterday: \",yesterday )\n",
    "print(\"Yesterday + 2 days:\",yesterday + timedelta2)\n",
    "print(\"Yesterday - 3 days:\",yesterday - timedelta3)"
   ]
  },
  {
   "cell_type": "code",
   "execution_count": null,
   "metadata": {},
   "outputs": [],
   "source": []
  }
 ],
 "metadata": {
  "kernelspec": {
   "display_name": "Python 3",
   "language": "python",
   "name": "python3"
  },
  "language_info": {
   "codemirror_mode": {
    "name": "ipython",
    "version": 3
   },
   "file_extension": ".py",
   "mimetype": "text/x-python",
   "name": "python",
   "nbconvert_exporter": "python",
   "pygments_lexer": "ipython3",
   "version": "3.7.4"
  }
 },
 "nbformat": 4,
 "nbformat_minor": 2
}
