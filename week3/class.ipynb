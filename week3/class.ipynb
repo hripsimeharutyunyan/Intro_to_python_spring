{
 "cells": [
  {
   "cell_type": "code",
   "execution_count": 70,
   "metadata": {},
   "outputs": [
    {
     "name": "stdout",
     "output_type": "stream",
     "text": [
      "['hello', 1, True]\n",
      "fbb\n",
      "yj\n",
      "['hello', 1, True, 'fbb', 'yj']\n"
     ]
    }
   ],
   "source": [
    "#problem1\n",
    "list1=[\"hello\", 1, True]\n",
    "print(list1)\n",
    "list1.append(input())\n",
    "list1.append(input())\n",
    "print(list1)"
   ]
  },
  {
   "cell_type": "code",
   "execution_count": 4,
   "metadata": {},
   "outputs": [
    {
     "name": "stdout",
     "output_type": "stream",
     "text": [
      "5\n",
      "84\n",
      "['hello', 1, True]\n",
      "['hello', 1, True, '5', '84']\n"
     ]
    }
   ],
   "source": [
    "#problem2\n",
    "list11=[\"hello\", 1, True]\n",
    "list12=list11.copy()\n",
    "list12.append(input())\n",
    "list12.append(input())\n",
    "print(list11)\n",
    "print(list12)\n"
   ]
  },
  {
   "cell_type": "code",
   "execution_count": 91,
   "metadata": {},
   "outputs": [
    {
     "name": "stdout",
     "output_type": "stream",
     "text": [
      "list2 =  [1, 2, 53, 42, 3, 53, 20]\n",
      "3\n",
      "Numbers of 3s= 1\n"
     ]
    }
   ],
   "source": [
    "#problem 3\n",
    "list2=[1, 2 , 53, 42, 3, 53, 20]\n",
    "print(\"list2 = \",list2)\n",
    "x=input()\n",
    "print(\"Numbers of %ss=\" %x,list2.count(int(x)))"
   ]
  },
  {
   "cell_type": "code",
   "execution_count": 27,
   "metadata": {},
   "outputs": [
    {
     "name": "stdout",
     "output_type": "stream",
     "text": [
      "[1, 2, 5, 42, 20]\n",
      "5\n",
      "[1, 2, 42, 20]\n"
     ]
    }
   ],
   "source": [
    "#problem 4\n",
    "list4=[1, 2, 5, 42, 20]\n",
    "print(list4)\n",
    "list4.remove(int(input()))\n",
    "print(list4)\n",
    "\n"
   ]
  },
  {
   "cell_type": "code",
   "execution_count": 71,
   "metadata": {},
   "outputs": [
    {
     "name": "stdout",
     "output_type": "stream",
     "text": [
      "[1, 2, 5, 42, 'a', 'd', 20]\n",
      "[2, 5, 42, 20]\n"
     ]
    }
   ],
   "source": [
    "#problem5\n",
    "list5 = list([1,2,5,42,\"a\", \"d\", 20])\n",
    "print(list5)\n",
    "del list5[5]\n",
    "del list5[4]\n",
    "del list5[0]\n",
    "print(list5)"
   ]
  },
  {
   "cell_type": "code",
   "execution_count": 74,
   "metadata": {},
   "outputs": [
    {
     "name": "stdout",
     "output_type": "stream",
     "text": [
      "[1, 2, 5, 42, 'a', 'd', 20]\n",
      "[2, 5, 42, 20]\n"
     ]
    }
   ],
   "source": [
    "#problem6\n",
    "list5 = list([1,2,5,42,\"a\", \"d\", 20])\n",
    "list51=list5.copy()\n",
    "del list51[5]\n",
    "del list51[4]\n",
    "del list51[0]\n",
    "print(list5)\n",
    "print(list51)"
   ]
  },
  {
   "cell_type": "code",
   "execution_count": 76,
   "metadata": {},
   "outputs": [
    {
     "name": "stdout",
     "output_type": "stream",
     "text": [
      "[1, 2, 'hi', 'ht', 23]\n",
      "[1, 2, 'hi', 'ht', ['er', 23]]\n"
     ]
    }
   ],
   "source": [
    "#problem7\n",
    "l1=[1, 2, \"hi\", \"ht\", 23]\n",
    "l2=[\"er\", 23]\n",
    "print(l1)\n",
    "l1[-1]=l2\n",
    "print(l1)\n",
    "\n"
   ]
  },
  {
   "cell_type": "code",
   "execution_count": 90,
   "metadata": {},
   "outputs": [
    {
     "name": "stdout",
     "output_type": "stream",
     "text": [
      "[1, 2, 'hi', 'ht', 23]\n",
      "[1, 2, 'hi', 'ht', 'er', 23]\n"
     ]
    }
   ],
   "source": [
    "#problem7.1\n",
    "l1=[1, 2, \"hi\", \"ht\", 23]\n",
    "l2=[\"er\", 23]\n",
    "print(l1)\n",
    "l1.pop()\n",
    "l1.extend(l2)\n",
    "print(l1)"
   ]
  },
  {
   "cell_type": "code",
   "execution_count": 31,
   "metadata": {},
   "outputs": [
    {
     "name": "stdout",
     "output_type": "stream",
     "text": [
      "{1, 2, 65, 5, 6, 45, 87, 25, 28}\n",
      "56\n",
      "{1, 2, 65, 5, 6, 45, '56', 87, 25, 28}\n"
     ]
    }
   ],
   "source": [
    "#problem 8\n",
    "set1={1, 2 , 5, 45, 87, 6, 28, 25, 65}\n",
    "print(set1)\n",
    "set1.add(input())\n",
    "print(set1)\n"
   ]
  },
  {
   "cell_type": "code",
   "execution_count": 33,
   "metadata": {},
   "outputs": [
    {
     "name": "stdout",
     "output_type": "stream",
     "text": [
      "{65, 1, 2, 5, 6, 45, 87, 56, 25, 28}\n",
      "56\n",
      "{65, 1, 2, 5, 6, 45, 87, 25, 28}\n"
     ]
    }
   ],
   "source": [
    "#problem 9\n",
    "set2={1, 2, 65, 5, 6, 45, 56, 87, 25, 28}\n",
    "print(set2)\n",
    "set2.remove(int(input()))\n",
    "print(set2)\n",
    "\n"
   ]
  },
  {
   "cell_type": "code",
   "execution_count": 35,
   "metadata": {},
   "outputs": [
    {
     "name": "stdout",
     "output_type": "stream",
     "text": [
      "{65, 1, 2, 5, 6, 45, 87, 56, 25, 28}\n",
      "789\n",
      "{65, 1, 2, 5, 6, 45, 87, 56, 25, 28}\n"
     ]
    }
   ],
   "source": [
    "#problem 10\n",
    "set2={1, 2, 65, 5, 6, 45, 56, 87, 25, 28}\n",
    "print(set2)\n",
    "set2.discard(int(input()))\n",
    "print(set2)\n",
    "\n"
   ]
  },
  {
   "cell_type": "code",
   "execution_count": 79,
   "metadata": {},
   "outputs": [
    {
     "name": "stdout",
     "output_type": "stream",
     "text": [
      "S1 =  {1, 2, 65, 5, 6, 45, 87, 25, 123, 28}\n",
      "S2 =  {65, 1, 2, 5, 6, 45, 528, 87, 56, 25, 28}\n",
      "S1 union S2 =  {1, 2, 65, 5, 6, 528, 87, 25, 28, 45, 56, 123}\n",
      "S1 intersection S2 =  {65, 1, 2, 5, 6, 45, 87, 25, 28}\n"
     ]
    }
   ],
   "source": [
    "#problem11\n",
    "set1={1, 2 , 5, 45, 87, 6, 28, 25, 65,123}\n",
    "set2={1, 2,  65, 5, 6, 45, 56, 87, 25, 528,28}\n",
    "print(\"S1 = \",set1)\n",
    "print(\"S2 = \",set2)\n",
    "print(\"S1 union S2 = \",set1.union(set2))\n",
    "print(\"S1 intersection S2 = \",set2.intersection(set1))"
   ]
  },
  {
   "cell_type": "code",
   "execution_count": 94,
   "metadata": {},
   "outputs": [
    {
     "name": "stdout",
     "output_type": "stream",
     "text": [
      "S =  {65, 1, 2, 5, 6, 45, 528, 87, 56, 25, 123, 28}\n",
      "Number=456\n",
      "minS< Number <maxS is  True\n"
     ]
    }
   ],
   "source": [
    "#problem12\n",
    "set3 =  {1, 2, 65, 5, 6, 528, 87, 25, 28, 45, 56, 123}\n",
    "print(\"S = \", set3)\n",
    "num=input(\"Number=\")\n",
    "print(\"minS< Number <maxS is \",(min(set3) < int(num)) and (int (num) < max(set3)))\n"
   ]
  },
  {
   "cell_type": "code",
   "execution_count": 95,
   "metadata": {},
   "outputs": [
    {
     "name": "stdout",
     "output_type": "stream",
     "text": [
      "t1 index 4=  23 \n",
      " t1 index -4= a\n"
     ]
    }
   ],
   "source": [
    "#problem 13\n",
    "t1=(1, 15, \"bc\", \"a\",23, 78, \"Hi!\" )\n",
    "print(\"t1 index 4= \",t1[4],\"\\n\",\"t1 index -4=\",t1[-4])\n"
   ]
  },
  {
   "cell_type": "code",
   "execution_count": 46,
   "metadata": {},
   "outputs": [
    {
     "name": "stdout",
     "output_type": "stream",
     "text": [
      "(1, 15, 'bc', 'a', 'hello', 78, 23, 'Hi!')\n"
     ]
    }
   ],
   "source": [
    "#problem 14\n",
    "t1=(1, 15, \"bc\", \"a\",23, 78, 23, \"Hi!\" )\n",
    "list14=list(t1)\n",
    "list14[4]=\"hello\"\n",
    "t1= tuple(list14)\n",
    "print(t1)\n"
   ]
  },
  {
   "cell_type": "code",
   "execution_count": 99,
   "metadata": {},
   "outputs": [
    {
     "name": "stdout",
     "output_type": "stream",
     "text": [
      "(1, 15, 'bc', 'a', 'hello', 78, 23, 'Hi!')\n"
     ]
    }
   ],
   "source": [
    "#problem 14.1\n",
    "t1=(1, 15, \"bc\", \"a\",23, 78, 23, \"Hi!\" )\n",
    "t2 = (\"hello\",)\n",
    "print(t1[:4]+t2+t1[5:])\n"
   ]
  },
  {
   "cell_type": "code",
   "execution_count": 53,
   "metadata": {},
   "outputs": [
    {
     "name": "stdout",
     "output_type": "stream",
     "text": [
      "{'Astxik': 123, 'Milena': 456, 'Ani': 789}\n",
      "value 423\n",
      "key Sona\n",
      "{'Astxik': 123, 'Milena': 456, 'Ani': 789, 'Sona': '423'}\n"
     ]
    }
   ],
   "source": [
    "#problem 15\n",
    "dict1 = {\"Astxik\": \"123\", \"Milena\" :\" 456\", \"Ani\":\"789\"}\n",
    "print(dict1)\n",
    "dict1[input(\"key \")]=input(\"value \")\n",
    "print(dict1)\n",
    "\n"
   ]
  },
  {
   "cell_type": "code",
   "execution_count": 69,
   "metadata": {},
   "outputs": [
    {
     "name": "stdout",
     "output_type": "stream",
     "text": [
      "{1: 'a', 2: 'b', 3: 'c'}\n"
     ]
    }
   ],
   "source": [
    "#problem 16\n",
    "l1=[(1,\"a\"),(2,\"b\"),(3,\"c\")]\n",
    "d1=dict()\n",
    "d1[int(l1[0][0])]=l1[0][1]\n",
    "d1[int(l1[1][0])]=l1[1][1]\n",
    "d1[int(l1[2][0])]=l1[2][1]\n",
    "print(d1)"
   ]
  },
  {
   "cell_type": "code",
   "execution_count": null,
   "metadata": {},
   "outputs": [],
   "source": []
  }
 ],
 "metadata": {
  "kernelspec": {
   "display_name": "Python 3",
   "language": "python",
   "name": "python3"
  },
  "language_info": {
   "codemirror_mode": {
    "name": "ipython",
    "version": 3
   },
   "file_extension": ".py",
   "mimetype": "text/x-python",
   "name": "python",
   "nbconvert_exporter": "python",
   "pygments_lexer": "ipython3",
   "version": "3.7.4"
  }
 },
 "nbformat": 4,
 "nbformat_minor": 2
}
