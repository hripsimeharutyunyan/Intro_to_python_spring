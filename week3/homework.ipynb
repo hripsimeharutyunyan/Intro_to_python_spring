{
 "cells": [
  {
   "cell_type": "code",
   "execution_count": 1,
   "metadata": {
    "scrolled": true
   },
   "outputs": [
    {
     "name": "stdout",
     "output_type": "stream",
     "text": [
      "a[3] =  7 , a[5] =  -2\n",
      "[8, 7, 5, 4, 1, 0, -1, -2]\n",
      "[8, 7, 5]\n",
      "[7, 5, 4, 1, 0]\n",
      "[8, 7, 1, 0, -1, -2]\n",
      "b =  ['grapes', 'Potatoes', 'tomatoes', 'Orange', 'Lemon', 'Broccoli', 'Carrot', 'Sausages']\n",
      "b sorted =  ['Broccoli', 'Carrot', 'Lemon', 'Orange', 'Potatoes', 'Sausages', 'grapes', 'tomatoes']\n",
      "c =  [1, 4, 5, 'Orange', 'Lemon', 'Broccoli']\n"
     ]
    }
   ],
   "source": [
    "#problems 1-10 (lists)\n",
    "a=[1,4,5,7,8,-2,0,-1]\n",
    "print(\"a[3] = \", a[3],\", a[5] = \",a[5])\n",
    "a_sorted=a.copy()\n",
    "a_sorted.sort(reverse=True)\n",
    "print (a_sorted)\n",
    "print(a_sorted[0:3])\n",
    "print(a_sorted[1:6])\n",
    "del a_sorted[2:4]\n",
    "print(a_sorted)\n",
    "b=[\"grapes\",\"Potatoes\", \"tomatoes\",\"Orange\", \"Lemon\", \"Broccoli\", \"Carrot\", \"Sausages\"]\n",
    "b_sorted=b.copy()\n",
    "b_sorted.sort()\n",
    "print(\"b = \",b)\n",
    "print(\"b sorted = \",b_sorted)\n",
    "c=a[0:3]+b[3:6]\n",
    "print(\"c = \",c)"
   ]
  },
  {
   "cell_type": "code",
   "execution_count": 2,
   "metadata": {},
   "outputs": [
    {
     "name": "stdout",
     "output_type": "stream",
     "text": [
      "Set A =  {False, True, 8, 'Chocolate', 'Cookies', -5, -3}\n",
      "Set B =  {False, True, 8, 10, 14, 'Jelly', 'Milk', 'Chocolate'}\n",
      "Union A and B =  {False, True, 8, 10, 'Chocolate', 14, 'Jelly', 'Cookies', 'Milk', -5, -3}\n",
      "Intersectin A and B =  {False, True, 'Chocolate', 8}\n",
      "Union A and B + =  {False, True, 8, 10, 'Chocolate', 'Kit-Kat', 14, 'Jelly', 'Oreo', 'Cookies', 'Milk', -5, -3}\n",
      "New Set =  {False, True, 8, 10, 'Chocolate', 'Kit-Kat', 14, 'Jelly', 'Oreo', 'Cookies', 'Milk', -5, -3}\n",
      "Chocolate in New Set? =  True\n",
      "New Set - =  {False, True, 8, 10, 'Chocolate', 'Kit-Kat', 14, 'Jelly', 'Cookies', 'Milk', -5, -3}\n"
     ]
    }
   ],
   "source": [
    "#problem 1-10 (sets)\n",
    "a1=[\"Cookies\",\"Chocolate\",8,True, -3,-5, \"Chocolate\", 8, False,8]\n",
    "b1=[8,True, 10,14,\"Chocolate\", \"Milk\",\"Jelly\", True, False,True]\n",
    "set_a=set(a1)\n",
    "set_b=set(b1)\n",
    "union_ab=set_a.union(set_b)\n",
    "intersection_ab=set_a.intersection(set_b)\n",
    "print(\"Set A = \", set_a)\n",
    "print(\"Set B = \",set_b)\n",
    "print(\"Union A and B = \",union_ab)\n",
    "print(\"Intersectin A and B = \",intersection_ab)\n",
    "union_ab.add(\"Kit-Kat\")\n",
    "union_ab.add(\"Oreo\")\n",
    "print(\"Union A and B + = \",union_ab)\n",
    "new_set= union_ab or intersection_ab\n",
    "print(\"New Set = \",new_set)\n",
    "print(\"Chocolate in New Set? = \", \"Chocolate\" in new_set)\n",
    "new_set.discard(\"Oreo\")\n",
    "print(\"New Set - = \",new_set)"
   ]
  },
  {
   "cell_type": "code",
   "execution_count": 3,
   "metadata": {},
   "outputs": [
    {
     "name": "stdout",
     "output_type": "stream",
     "text": [
      "t1 =  (1, True, 'a', -2, 'Anna')\n",
      "t1- =  (1, 'a', -2, 'Anna')\n",
      "t2 =  (1, 2, 3, 4, 5)\n",
      "t3 =  (1, 'a', 1, 2, 3)\n",
      "t3[2] =  1\n",
      "t4 =  [(1, 3, 5), (8, 9), ('Anna', 'Bob', 'Alice')]\n",
      "t4[0][1]= 3\n"
     ]
    }
   ],
   "source": [
    "#problems 1-6 (tuples)\n",
    "t1=(1,True, \"a\", -2,\"Anna\")\n",
    "print(\"t1 = \",t1)\n",
    "t11=list(t1)\n",
    "del t11[1]\n",
    "t1=tuple(t11)\n",
    "print(\"t1- = \",t1)\n",
    "t2=(1,2,3,4,5)\n",
    "t3=t1[0:2]+t2[0:3]\n",
    "print(\"t2 = \",t2)\n",
    "print(\"t3 = \",t3)\n",
    "print(\"t3[2] = \", t3[2])\n",
    "t4=[(1,3,5),(8,9),(\"Anna\",\"Bob\", \"Alice\")]\n",
    "print(\"t4 = \",t4)\n",
    "print(\"t4[0][1]=\",t4[0][1] )\n",
    "\n"
   ]
  },
  {
   "cell_type": "code",
   "execution_count": 4,
   "metadata": {},
   "outputs": [
    {
     "name": "stdout",
     "output_type": "stream",
     "text": [
      "Market =  {'dairy': ['yogurt', 'cheese'], 'fruits': ['banana', 'apple', 'orange', 'lemon', 'apple', 'banana', 'banana']}\n",
      "New market 1 = {'dairy': ['yogurt', 'cheese'], 'fruits': ['banana', 'apple', 'orange', 'lemon', 'apple', 'banana', 'banana'], 'candies': ['mars', 'kinder', 'twix']}\n",
      "New market 2 =  {'dairy': ['yogurt', 'cheese'], 'fruits': ['banana', 'orange', 'lemon', 'apple'], 'candies': ['mars', 'kinder', 'twix']}\n"
     ]
    }
   ],
   "source": [
    "#problems (dictionaries)\n",
    "market={'dairy':['yogurt','cheese'],'fruits':['banana','apple','orange','lemon','apple','banana','banana']}\n",
    "print(\"Market = \", market)\n",
    "market['candies']=[\"mars\",'kinder', 'twix']\n",
    "print(\"New market 1 =\",market)\n",
    "market[\"fruits\"].sort()\n",
    "s1=set(market[\"fruits\"])\n",
    "market[\"fruits\"]=list(s1)\n",
    "print(\"New market 2 = \", market)\n"
   ]
  },
  {
   "cell_type": "code",
   "execution_count": null,
   "metadata": {},
   "outputs": [],
   "source": []
  }
 ],
 "metadata": {
  "kernelspec": {
   "display_name": "Python 3",
   "language": "python",
   "name": "python3"
  },
  "language_info": {
   "codemirror_mode": {
    "name": "ipython",
    "version": 3
   },
   "file_extension": ".py",
   "mimetype": "text/x-python",
   "name": "python",
   "nbconvert_exporter": "python",
   "pygments_lexer": "ipython3",
   "version": "3.7.4"
  }
 },
 "nbformat": 4,
 "nbformat_minor": 2
}
