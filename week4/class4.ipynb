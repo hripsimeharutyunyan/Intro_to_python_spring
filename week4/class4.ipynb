{
 "cells": [
  {
   "cell_type": "code",
   "execution_count": 3,
   "metadata": {},
   "outputs": [
    {
     "name": "stdout",
     "output_type": "stream",
     "text": [
      "Numner 1 = 5\n",
      "Numner 2 = 42\n",
      "max =  42\n"
     ]
    }
   ],
   "source": [
    "#problem 1\n",
    "n1=int(input(\"Numner 1 = \"))\n",
    "n2=int(input(\"Numner 2 = \"))\n",
    "if n1>n2:\n",
    "    print(\"max = \",n1)\n",
    "else: print(\"max = \", n2)"
   ]
  },
  {
   "cell_type": "code",
   "execution_count": 5,
   "metadata": {},
   "outputs": [
    {
     "name": "stdout",
     "output_type": "stream",
     "text": [
      "It is square\n"
     ]
    }
   ],
   "source": [
    "#problem 2\n",
    "a=5\n",
    "b=5\n",
    "if a==b:\n",
    "    print(\"It is square\")\n",
    "else: print(\"It is rectangle\")\n"
   ]
  },
  {
   "cell_type": "code",
   "execution_count": 28,
   "metadata": {},
   "outputs": [
    {
     "name": "stdout",
     "output_type": "stream",
     "text": [
      "Dear Bateman, you are too young to register\n"
     ]
    }
   ],
   "source": [
    "#problem 3\n",
    "name=\"Bateman\"\n",
    "age=15\n",
    "password=\"1641df*vb6ef4\"\n",
    "if name == \"Batman\":\n",
    "    print(\"Welcome Mr. Batman!\")\n",
    "elif age<16:\n",
    "    print(\"Dear %s, you are too young to register\"%name)\n",
    "elif(password.count(\"*\")+password.count(\"&\"))==0:\n",
    "    print(\"Please enter a different password\")\n",
    "    \n",
    "\n"
   ]
  },
  {
   "cell_type": "code",
   "execution_count": 33,
   "metadata": {},
   "outputs": [
    {
     "name": "stdout",
     "output_type": "stream",
     "text": [
      "Dear Bateman, you are too young to register\n",
      "Please enter a different password\n"
     ]
    }
   ],
   "source": [
    "#problem 3,1\n",
    "name=\"Bateman\"\n",
    "age=15\n",
    "password=\"1641df*vb6ef4\"\n",
    "if name == \"Batman\":\n",
    "    print(\"Welcome Mr. Batman!\")\n",
    "else:\n",
    "    if age<16:\n",
    "        print(\"Dear %s, you are too young to register\" %name)\n",
    "    if ((\"*\" not in  password) or (\"&\"  not in password)):\n",
    "        print(\"Please enter a different password\")\n",
    "    "
   ]
  },
  {
   "cell_type": "code",
   "execution_count": 29,
   "metadata": {},
   "outputs": [
    {
     "name": "stdout",
     "output_type": "stream",
     "text": [
      "n = 6\n",
      "{'name ': 'Armen', 'age': 15, 'grades': [10, 8, 8, 4, 6, 7], 'weight': '6'}\n"
     ]
    }
   ],
   "source": [
    "#problem 4\n",
    "d={\"name \": \"Armen\",\"age\": 15,\"grades\": [10, 8, 8, 4, 6, 7]}\n",
    "d_keys=list(d.keys())\n",
    "if (\"weight\" not in d_keys):\n",
    "    d[\"weight\"]=input(\"n = \")\n",
    "else:\n",
    "    print(d[\"weight\"])\n",
    "print(d)"
   ]
  },
  {
   "cell_type": "code",
   "execution_count": 36,
   "metadata": {},
   "outputs": [
    {
     "name": "stdout",
     "output_type": "stream",
     "text": [
      "1\n",
      "3\n",
      "5\n",
      "7\n",
      "9\n",
      "11\n",
      "13\n",
      "15\n",
      "17\n",
      "19\n",
      "21\n",
      "23\n",
      "25\n",
      "27\n",
      "29\n",
      "31\n",
      "33\n",
      "35\n",
      "37\n",
      "39\n",
      "41\n",
      "43\n",
      "45\n",
      "47\n",
      "49\n",
      "51\n",
      "53\n",
      "55\n",
      "57\n",
      "59\n",
      "61\n",
      "63\n",
      "65\n",
      "67\n",
      "69\n",
      "71\n",
      "73\n",
      "75\n",
      "77\n",
      "79\n",
      "81\n",
      "83\n",
      "85\n",
      "87\n",
      "89\n",
      "91\n",
      "93\n",
      "95\n",
      "97\n",
      "99\n"
     ]
    }
   ],
   "source": [
    "#problem 5\n",
    "\n",
    "for x in range(101):\n",
    "    if x%2==1:\n",
    "        print(x)\n",
    "    \n"
   ]
  },
  {
   "cell_type": "code",
   "execution_count": 44,
   "metadata": {},
   "outputs": [
    {
     "name": "stdout",
     "output_type": "stream",
     "text": [
      "1\n",
      "3\n",
      "5\n",
      "6\n"
     ]
    }
   ],
   "source": [
    "#problem 6\n",
    "c=0\n",
    "while c<6:\n",
    "    c=c+1\n",
    "    if c==2 or c==4:\n",
    "        continue \n",
    "    print(c)\n"
   ]
  },
  {
   "cell_type": "code",
   "execution_count": 45,
   "metadata": {},
   "outputs": [
    {
     "name": "stdout",
     "output_type": "stream",
     "text": [
      "1\n",
      "2\n",
      "3\n",
      "4\n",
      "5\n",
      "6\n",
      "7\n",
      "8\n",
      "9\n",
      "10\n",
      "11\n",
      "12\n",
      "13\n",
      "14\n",
      "15\n"
     ]
    }
   ],
   "source": [
    "#problem 7\n",
    "a=1\n",
    "while a<20:\n",
    "    print(a)\n",
    "    if a%5==0 and a%3==0:\n",
    "        break\n",
    "    a+=1\n"
   ]
  },
  {
   "cell_type": "code",
   "execution_count": 86,
   "metadata": {},
   "outputs": [
    {
     "name": "stdout",
     "output_type": "stream",
     "text": [
      "5\n",
      "7\n",
      "-7\n",
      "abc\n",
      "2\n",
      "4\n",
      "True\n"
     ]
    }
   ],
   "source": [
    "#problem 8\n",
    "list1=[5, 7, -7, \"abc\", 2, 4, True, 3, 4, 6, 7, 7]\n",
    "for i in range(len(list1)):\n",
    "    if list1[i]==3:\n",
    "        break\n",
    "    print(list1[i])\n",
    "\n"
   ]
  },
  {
   "cell_type": "code",
   "execution_count": 27,
   "metadata": {},
   "outputs": [
    {
     "name": "stdout",
     "output_type": "stream",
     "text": [
      "num6\n",
      "num1\n",
      "num5\n",
      "That was a good guess!\n"
     ]
    }
   ],
   "source": [
    "#problem 9\n",
    "correct_num=5\n",
    "for i in range(1,11):\n",
    "    guess=int(input(\"num\"))\n",
    "    if guess==correct_num:\n",
    "        print(\"That was a good guess!\")\n",
    "        break\n",
    "    \n",
    "        \n",
    "    \n",
    " \n",
    "\n"
   ]
  },
  {
   "cell_type": "code",
   "execution_count": 54,
   "metadata": {},
   "outputs": [
    {
     "name": "stdout",
     "output_type": "stream",
     "text": [
      "[7, 8, 120, 25, 44, 20, 27]\n",
      "[7, 25, 27]\n"
     ]
    }
   ],
   "source": [
    "#problem 10\n",
    "num = [7, 8, 120, 25, 44, 20, 27]\n",
    "print(num)\n",
    "num=[x for x in num if x%2 == 1]\n",
    "print(num)\n"
   ]
  },
  {
   "cell_type": "code",
   "execution_count": 56,
   "metadata": {},
   "outputs": [
    {
     "name": "stdout",
     "output_type": "stream",
     "text": [
      "[1, 4, 9, 16, 25, 36, 49, 64, 81, 100, 121, 144, 169, 196, 225, 256, 289, 324, 361, 400, 441, 484, 529, 576, 625, 676, 729, 784, 841, 900, 961, 1024, 1089, 1156, 1225, 1296, 1369, 1444, 1521, 1600, 1681, 1764, 1849, 1936, 2025, 2116, 2209, 2304, 2401, 2500]\n"
     ]
    }
   ],
   "source": [
    "#problem 11\n",
    "list3=[x**2 for x in range(1,51)]\n",
    "print(list3)"
   ]
  },
  {
   "cell_type": "code",
   "execution_count": 58,
   "metadata": {},
   "outputs": [
    {
     "name": "stdout",
     "output_type": "stream",
     "text": [
      "[25, 36, 14, 3, 12, 456, 78, 265, 35, 46, 86]\n",
      "[25, 36, 456, 78, 265, 35, 46, 86]\n"
     ]
    }
   ],
   "source": [
    "#problem 12\n",
    "list1=[25,36,14,3,12,456,78,265,35,46,86]\n",
    "list2=[x for x in list1 if x>20]\n",
    "print(list1)\n",
    "print(list2)"
   ]
  },
  {
   "cell_type": "code",
   "execution_count": 60,
   "metadata": {},
   "outputs": [
    {
     "name": "stdout",
     "output_type": "stream",
     "text": [
      "get textdfghjtresx fdtrgyu\n",
      "dfghjtresx fdtrgyu\n",
      "['d', 'f', 'g', 'h', 'j', 't', 'r', 'e', 's', 'x', ' ', 'f', 'd', 't', 'r', 'g', 'y', 'u']\n"
     ]
    }
   ],
   "source": [
    "#problem 13\n",
    "str1=input(\"get text\")\n",
    "l1=[x for x in str1]\n",
    "print(str1)\n",
    "print(l1)"
   ]
  },
  {
   "cell_type": "code",
   "execution_count": 75,
   "metadata": {},
   "outputs": [
    {
     "name": "stdout",
     "output_type": "stream",
     "text": [
      "['a', 'abc', 'xyz', 's', 'aba', '1221']\n",
      "2\n"
     ]
    }
   ],
   "source": [
    "#problem 14\n",
    "list4=[\"a\",\"abc\", \"xyz\",\"s\",\"aba\",\"1221\"]\n",
    "l2=len([x for x in list4 if len(x)>2 and x[0]==x[-1]])\n",
    "print(list1)\n",
    "print(l2)"
   ]
  },
  {
   "cell_type": "code",
   "execution_count": null,
   "metadata": {},
   "outputs": [],
   "source": []
  }
 ],
 "metadata": {
  "kernelspec": {
   "display_name": "Python 3",
   "language": "python",
   "name": "python3"
  },
  "language_info": {
   "codemirror_mode": {
    "name": "ipython",
    "version": 3
   },
   "file_extension": ".py",
   "mimetype": "text/x-python",
   "name": "python",
   "nbconvert_exporter": "python",
   "pygments_lexer": "ipython3",
   "version": "3.7.4"
  }
 },
 "nbformat": 4,
 "nbformat_minor": 2
}
