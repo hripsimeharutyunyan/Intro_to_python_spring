{
 "cells": [
  {
   "cell_type": "code",
   "execution_count": 13,
   "metadata": {},
   "outputs": [
    {
     "name": "stdout",
     "output_type": "stream",
     "text": [
      "Number = 45\n",
      "You get a discount\n"
     ]
    }
   ],
   "source": [
    "#conditionals 1\n",
    "n_shoes= int(input(\"Number = \"))\n",
    "if 100*n_shoes>1000:\n",
    "    print(\"You get a discount\")\n",
    "else:\n",
    "    print(\"You don't get a discount\")"
   ]
  },
  {
   "cell_type": "code",
   "execution_count": 12,
   "metadata": {},
   "outputs": [
    {
     "name": "stdout",
     "output_type": "stream",
     "text": [
      "Good job!\n"
     ]
    }
   ],
   "source": [
    "#conditionals 2\n",
    "d= {\"name\":\"Armen\", \"age\":\"15\", \"grades\":[10,8,8,4,6,7]}\n",
    "mean=sum(d[\"grades\"])/len(d[\"grades\"])\n",
    "if mean>7:\n",
    "    print(\"Good job!\")\n",
    "else:\n",
    "    print(\"You need to work more!\")"
   ]
  },
  {
   "cell_type": "code",
   "execution_count": 11,
   "metadata": {},
   "outputs": [
    {
     "name": "stdout",
     "output_type": "stream",
     "text": [
      "1\n",
      "3\n",
      "5\n",
      "7\n",
      "9\n"
     ]
    }
   ],
   "source": [
    "#loops and loop control statements 3\n",
    "for x in range(11):\n",
    "    if x%2==1:\n",
    "        print (x)"
   ]
  },
  {
   "cell_type": "code",
   "execution_count": 10,
   "metadata": {},
   "outputs": [
    {
     "name": "stdout",
     "output_type": "stream",
     "text": [
      "1\n",
      "3\n",
      "5\n",
      "7\n",
      "9\n"
     ]
    }
   ],
   "source": [
    "#loops and loop control statements 3,1\n",
    "c=0\n",
    "while c<10:\n",
    "    c+=1\n",
    "    if c%2==0:\n",
    "        continue\n",
    "    print(c)\n",
    "  \n"
   ]
  },
  {
   "cell_type": "code",
   "execution_count": 41,
   "metadata": {},
   "outputs": [
    {
     "name": "stdout",
     "output_type": "stream",
     "text": [
      "1\n",
      "3\n",
      "5\n",
      "7\n",
      "9\n"
     ]
    }
   ],
   "source": [
    "#loops and loop control statements 4\n",
    "list1=[1, 3, 5, 7, 9, 11, 13, 15]\n",
    "list2=[4, 6, 14, 11, 8, 16]\n",
    "for y in range (len(list1)):\n",
    "    if list1[y] not in list2:\n",
    "        print (list1[y])\n",
    "    else:\n",
    "        break\n",
    "    \n",
    "    \n",
    "    "
   ]
  },
  {
   "cell_type": "code",
   "execution_count": 9,
   "metadata": {},
   "outputs": [
    {
     "name": "stdout",
     "output_type": "stream",
     "text": [
      "1\n",
      "3\n",
      "5\n",
      "7\n",
      "9\n"
     ]
    }
   ],
   "source": [
    "#loops and loop control statements 4.1\n",
    "list1=[1, 3, 5, 7, 9, 11, 13, 15]\n",
    "list2=[4, 6, 14, 11, 8, 16]\n",
    "y=0\n",
    "while y<8:\n",
    "    print (list1[y])\n",
    "    y+=1\n",
    "    if list1[y] in list2:\n",
    "            break\n",
    "    \n",
    "    "
   ]
  },
  {
   "cell_type": "code",
   "execution_count": 8,
   "metadata": {},
   "outputs": [
    {
     "name": "stdout",
     "output_type": "stream",
     "text": [
      "Desertdth\n",
      "Please choose another desert\n",
      "Desertice cream\n",
      "Your desert will arrive in 10 minutes\n"
     ]
    }
   ],
   "source": [
    "#loops and loop control statements 5\n",
    "menu=['ice cream', 'chocolate', 'apple crisp', 'cookies']\n",
    "i=1\n",
    "while i!=0:\n",
    "    desert=input(\"Desert\")\n",
    "    if desert in menu:\n",
    "        print (\"Your desert will arrive in 10 minutes\")\n",
    "        i=0\n",
    "    else:\n",
    "        print (\"Please choose another desert\")\n",
    "        "
   ]
  },
  {
   "cell_type": "code",
   "execution_count": 3,
   "metadata": {},
   "outputs": [
    {
     "name": "stdout",
     "output_type": "stream",
     "text": [
      "Desertsg\n",
      "Please choose another desert\n",
      "Desertice cream\n",
      "Your desert will arrive in 10 minutes\n"
     ]
    }
   ],
   "source": [
    "#loops and loop control statements 5\n",
    "menu=['ice cream', 'chocolate', 'apple crisp', 'cookies']\n",
    "desert=input(\"Desert\")\n",
    "while desert not in menu:\n",
    "    print (\"Please choose another desert\")\n",
    "    desert=input(\"Desert\")\n",
    "print (\"Your desert will arrive in 10 minutes\")\n",
    "        "
   ]
  },
  {
   "cell_type": "code",
   "execution_count": 7,
   "metadata": {},
   "outputs": [
    {
     "name": "stdout",
     "output_type": "stream",
     "text": [
      "[1, 5, 8, 9, 56, 25, 488, 75, 36, 49, 6, 9, 5, 45, 3]\n",
      "4\n",
      "[8, 9, 6, 9]\n"
     ]
    }
   ],
   "source": [
    "#list comprehension 6\n",
    "list2=[1, 5, 8, 9, 56, 25, 488, 75, 36, 49, 6, 9, 5, 45, 3]\n",
    "list3=[x for x in list2 if 5<x<10 ] \n",
    "print(list2) \n",
    "print(len(list3)) \n",
    "print( list3)"
   ]
  },
  {
   "cell_type": "code",
   "execution_count": 6,
   "metadata": {},
   "outputs": [
    {
     "name": "stdout",
     "output_type": "stream",
     "text": [
      "[[10, 20, 100], [40, 50, 100], [70, 80, 100]]\n",
      "[[10, 20, 40], [40, 50, 60], [70, 80, 90]]\n"
     ]
    }
   ],
   "source": [
    "#list comprehension 7\n",
    "list4=[[10, 20, 40], [40, 50, 60],[70, 80, 90]]\n",
    "list5 = [ i[:-1] for i in list4]\n",
    "[y.append(100) for y in list5]\n",
    "print(list5)\n",
    "print(list4)"
   ]
  },
  {
   "cell_type": "code",
   "execution_count": 2,
   "metadata": {},
   "outputs": [
    {
     "name": "stdout",
     "output_type": "stream",
     "text": [
      "[[10, 20, 100], [40, 50, 100], [70, 80, 100]]\n",
      "[[10, 20, 40], [40, 50, 60], [70, 80, 90]]\n"
     ]
    }
   ],
   "source": [
    "#list comprehension 7\n",
    "list4=[[10, 20, 40], [40, 50, 60],[70, 80, 90]]\n",
    "list5 = [ i[:-1]+[100] for i in list4]\n",
    "\n",
    "print(list5)\n",
    "print(list4)"
   ]
  },
  {
   "cell_type": "code",
   "execution_count": 5,
   "metadata": {},
   "outputs": [
    {
     "name": "stdout",
     "output_type": "stream",
     "text": [
      "[[10, 20, 100], [40, 50, 100], [70, 80, 100]]\n",
      "[[10, 20, 40], [40, 50, 60], [70, 80, 90]]\n"
     ]
    }
   ],
   "source": [
    "#list comprehension 6,1\n",
    "list7=[[10, 20, 40], [40, 50, 60],[70, 80, 90]]\n",
    "list8=list7.copy()\n",
    "for x in range( len (list7)):\n",
    "    list8[x]=list7[x].copy()\n",
    "    list8[x][-1]=100\n",
    "print(list8)\n",
    "print(list7)"
   ]
  }
 ],
 "metadata": {
  "kernelspec": {
   "display_name": "Python 3",
   "language": "python",
   "name": "python3"
  },
  "language_info": {
   "codemirror_mode": {
    "name": "ipython",
    "version": 3
   },
   "file_extension": ".py",
   "mimetype": "text/x-python",
   "name": "python",
   "nbconvert_exporter": "python",
   "pygments_lexer": "ipython3",
   "version": "3.7.4"
  }
 },
 "nbformat": 4,
 "nbformat_minor": 2
}
