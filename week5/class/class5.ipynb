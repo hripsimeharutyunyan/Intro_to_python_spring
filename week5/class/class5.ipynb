{
 "cells": [
  {
   "cell_type": "code",
   "execution_count": 4,
   "metadata": {},
   "outputs": [
    {
     "data": {
      "text/plain": [
       "6.0"
      ]
     },
     "execution_count": 4,
     "metadata": {},
     "output_type": "execute_result"
    }
   ],
   "source": [
    "# problem 1\n",
    "def my_sum(a,b,c):\n",
    "    return (a+b+c)/3\n",
    "my_sum(5,4,9)"
   ]
  },
  {
   "cell_type": "code",
   "execution_count": 8,
   "metadata": {},
   "outputs": [
    {
     "data": {
      "text/plain": [
       "4"
      ]
     },
     "execution_count": 8,
     "metadata": {},
     "output_type": "execute_result"
    }
   ],
   "source": [
    "#problem 2\n",
    "def func1(a:list):\n",
    "    l=[i for i in a if i%2==0] \n",
    "    return len(l)\n",
    "func1([1,2,3,4,5,6,7,8,9])"
   ]
  },
  {
   "cell_type": "code",
   "execution_count": 26,
   "metadata": {},
   "outputs": [
    {
     "data": {
      "text/plain": [
       "True"
      ]
     },
     "execution_count": 26,
     "metadata": {},
     "output_type": "execute_result"
    }
   ],
   "source": [
    "#problem3\n",
    "def password(password): \n",
    "    l=[i for i in password if i in ['1','2','3','4','5','6','7','8','9','0']]\n",
    "    if len(password)>9 and len(l)>1:\n",
    "        return True\n",
    "    else:\n",
    "        return False\n",
    "password(\"sfersrh15zsrh4g\")"
   ]
  },
  {
   "cell_type": "code",
   "execution_count": 30,
   "metadata": {},
   "outputs": [
    {
     "name": "stdout",
     "output_type": "stream",
     "text": [
      "Ani Welcome to our company!\n"
     ]
    }
   ],
   "source": [
    "#problem4\n",
    "def func2(name, greeting=\"Welcome to our company!\"):\n",
    "    print(name, greeting)\n",
    "func2('Ani')"
   ]
  },
  {
   "cell_type": "code",
   "execution_count": 67,
   "metadata": {},
   "outputs": [
    {
     "name": "stdout",
     "output_type": "stream",
     "text": [
      "No grades availble for Anna\n"
     ]
    }
   ],
   "source": [
    "#problem5\n",
    "def grade(name, *args):\n",
    "    if len(args)!=0:\n",
    "        sum1=sum(args)/len(args)\n",
    "        print(\"%s , your average grade is: %s \" %(name,sum1))\n",
    "    else:\n",
    "        print(\"No grades availble for %s\" %name)\n",
    "\n",
    "grade(\"Anna\")"
   ]
  },
  {
   "cell_type": "code",
   "execution_count": 87,
   "metadata": {},
   "outputs": [
    {
     "name": "stdout",
     "output_type": "stream",
     "text": [
      "Ani : 15\n",
      "Anna : 12\n"
     ]
    }
   ],
   "source": [
    "#problem6\n",
    "def func3(user,**kwargs):\n",
    "    if user==\"admin\":\n",
    "        for name, value in kwargs.items():\n",
    "            print(name,\":\",value)\n",
    "    else:\n",
    "        print(\"access denied to the user %s\" %user)  \n",
    "func3(\"admin\",Ani=15, Anna=12)"
   ]
  },
  {
   "cell_type": "code",
   "execution_count": 88,
   "metadata": {},
   "outputs": [
    {
     "name": "stdout",
     "output_type": "stream",
     "text": [
      "Result: 4\n",
      "The result of the operation is 64\n"
     ]
    }
   ],
   "source": [
    "#problem7\n",
    "def calculate_cube(x):\n",
    "    return x**3\n",
    "def calculate_square(x):\n",
    "    return x**2\n",
    "\n",
    "import pretty_print\n",
    "\n",
    "def main():\n",
    "    y=calculate_square(2)\n",
    "    pretty_print.simple_print(y)\n",
    "    z=calculate_cube(4)\n",
    "    pretty_print.pro_print(z)\n",
    "    \n",
    "    \n",
    "    \n",
    "    \n",
    "if __name__=='__main__':\n",
    "    main()"
   ]
  }
 ],
 "metadata": {
  "kernelspec": {
   "display_name": "Python 3",
   "language": "python",
   "name": "python3"
  },
  "language_info": {
   "codemirror_mode": {
    "name": "ipython",
    "version": 3
   },
   "file_extension": ".py",
   "mimetype": "text/x-python",
   "name": "python",
   "nbconvert_exporter": "python",
   "pygments_lexer": "ipython3",
   "version": "3.7.4"
  }
 },
 "nbformat": 4,
 "nbformat_minor": 2
}
