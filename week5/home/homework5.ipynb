{
 "cells": [
  {
   "cell_type": "code",
   "execution_count": 29,
   "metadata": {},
   "outputs": [
    {
     "name": "stdout",
     "output_type": "stream",
     "text": [
      "8\n"
     ]
    }
   ],
   "source": [
    "#problem 1\n",
    "def my_max(*argv):\n",
    "    if len(argv)==0:\n",
    "        print('no numbers given')\n",
    "    else: \n",
    "        m=argv[0]\n",
    "        for i in argv[1:]:\n",
    "            if i>m:\n",
    "                m=i\n",
    "        print(m)\n",
    "my_max(1,5,8,3,5,4)"
   ]
  },
  {
   "cell_type": "code",
   "execution_count": 31,
   "metadata": {},
   "outputs": [
    {
     "data": {
      "text/plain": [
       "[1, 2, 3, 9]"
      ]
     },
     "execution_count": 31,
     "metadata": {},
     "output_type": "execute_result"
    }
   ],
   "source": [
    "#problem 2\n",
    "def new_list(a:list):\n",
    "    n=set(a)\n",
    "    return list(n)\n",
    "new_list([1,2,9,3,9,9])"
   ]
  },
  {
   "cell_type": "code",
   "execution_count": 32,
   "metadata": {},
   "outputs": [
    {
     "data": {
      "text/plain": [
       "13"
      ]
     },
     "execution_count": 32,
     "metadata": {},
     "output_type": "execute_result"
    }
   ],
   "source": [
    "#problem 3\n",
    "def my_fib(n:int):\n",
    "    list1=[1,1]\n",
    "    if n==1 or n==2:    \n",
    "        return 1\n",
    "    else:\n",
    "        i=2\n",
    "        while i<n:\n",
    "            m=list1[-1]+list1[-2]\n",
    "            list1.append(m)\n",
    "            i+=1\n",
    "        return list1[-1]\n",
    "my_fib(7)"
   ]
  },
  {
   "cell_type": "code",
   "execution_count": 34,
   "metadata": {},
   "outputs": [
    {
     "data": {
      "text/plain": [
       "13"
      ]
     },
     "execution_count": 34,
     "metadata": {},
     "output_type": "execute_result"
    }
   ],
   "source": [
    "#problem 3.1\n",
    "def my_fib(n:int):\n",
    "    if n==1 or n==2:\n",
    "        return 1\n",
    "    else:\n",
    "        return my_fib(n-1)+my_fib(n-2)\n",
    "my_fib(7)"
   ]
  },
  {
   "cell_type": "code",
   "execution_count": 35,
   "metadata": {},
   "outputs": [
    {
     "name": "stdout",
     "output_type": "stream",
     "text": [
      "[12, 15, 68, 35, 16, 19, 62]\n"
     ]
    }
   ],
   "source": [
    "#problem 4\n",
    "def my_func(n:int):\n",
    "    if n<10:\n",
    "        return n+10\n",
    "    else:\n",
    "        return n-10\n",
    "list1=[2,5,78,45,6,9,72]\n",
    "list2=map(lambda x: my_func (x),list1)\n",
    "print(list(list2))"
   ]
  },
  {
   "cell_type": "code",
   "execution_count": 25,
   "metadata": {},
   "outputs": [
    {
     "name": "stdout",
     "output_type": "stream",
     "text": [
      "Product: pen\n",
      "Number: 456\n",
      "Price: 1\n",
      "Sorry! We are out of this product.\n"
     ]
    }
   ],
   "source": [
    "# problem 5 customer\n",
    "import Productcheck\n",
    "def buy(product,num,price):\n",
    "    if check(product,num):\n",
    "        print('You bought %s and spent %s' %(product,num*price))\n",
    "    else:\n",
    "        print('Sorry! We are out of this product.')\n",
    "\n",
    "        \n",
    "def main():\n",
    "    product=input('Product: ')\n",
    "    num= int(input('Number: '))\n",
    "    price=int(input('Price: '))\n",
    "    buy (product,num,price)\n",
    "if __name__=='__main__':\n",
    "    main()\n"
   ]
  }
 ],
 "metadata": {
  "kernelspec": {
   "display_name": "Python 3",
   "language": "python",
   "name": "python3"
  },
  "language_info": {
   "codemirror_mode": {
    "name": "ipython",
    "version": 3
   },
   "file_extension": ".py",
   "mimetype": "text/x-python",
   "name": "python",
   "nbconvert_exporter": "python",
   "pygments_lexer": "ipython3",
   "version": "3.7.4"
  }
 },
 "nbformat": 4,
 "nbformat_minor": 2
}
