{
 "cells": [
  {
   "cell_type": "code",
   "execution_count": 57,
   "metadata": {},
   "outputs": [
    {
     "name": "stdout",
     "output_type": "stream",
     "text": [
      "A red circle with radius 12\n"
     ]
    }
   ],
   "source": [
    "# Problem 1\n",
    "class Circle:\n",
    "    \n",
    "    def __init__(self,radius, color):\n",
    "        self.radius=radius\n",
    "        self.color=color\n",
    "    def getDesc(self):\n",
    "        print('A %s circle with radius %s'%(self.radius,self.color))\n",
    "circle1=Circle('red',12)\n",
    "circle1.getDesc()"
   ]
  },
  {
   "cell_type": "code",
   "execution_count": 58,
   "metadata": {},
   "outputs": [
    {
     "name": "stdout",
     "output_type": "stream",
     "text": [
      "dvfsfregt\n",
      "DVFSFREGT\n"
     ]
    }
   ],
   "source": [
    "#Problem 2\n",
    "class My_class:\n",
    "    def __init__(self,my_str):\n",
    "        self.my_str=my_str\n",
    "    def get_String(self):\n",
    "        return self.my_str\n",
    "    def print_String(self):\n",
    "        print(self.my_str. upper())\n",
    "str1=My_class('dvfsfregt')\n",
    "print (str1.get_String())\n",
    "str1.print_String() "
   ]
  },
  {
   "cell_type": "code",
   "execution_count": 14,
   "metadata": {},
   "outputs": [
    {
     "name": "stdout",
     "output_type": "stream",
     "text": [
      "('Ani', 'Har')\n",
      "('Anna', 'Har')\n",
      "High\n",
      "High\n"
     ]
    }
   ],
   "source": [
    "#Problem 3\n",
    "class Employee:\n",
    "    def __init__ (self, name, last_name, monthly_salary):\n",
    "        self.name=name\n",
    "        self.last_name=last_name\n",
    "        self.__monthly_salary=monthly_salary\n",
    "    def getFullName(self):\n",
    "        return self.name, self.last_name\n",
    "    def annualSalary(self):\n",
    "        if (self.__monthly_salary *12)>100:\n",
    "            return \"High\"\n",
    "        else:\n",
    "            return \"Low\"\n",
    "emp1= Employee ('Ani', 'Har', 244)    \n",
    "emp2= Employee ('Anna', 'Har', 44)\n",
    "print (emp1.getFullName())\n",
    "print (emp2.getFullName())\n",
    "print (emp1.annualSalary())\n",
    "print (emp2.annualSalary())"
   ]
  },
  {
   "cell_type": "code",
   "execution_count": 59,
   "metadata": {},
   "outputs": [
    {
     "name": "stdout",
     "output_type": "stream",
     "text": [
      "sd is better than sdg\n",
      "sd is better than sdg\n"
     ]
    }
   ],
   "source": [
    "#Problem 4\n",
    "class Car:\n",
    "    def __init__(self, model, color, max_speed):\n",
    "        self.model=model\n",
    "        self.color=color\n",
    "        self.max_speed=max_speed\n",
    "    def compareCar(self, car2):\n",
    "        if self.max_speed>car2.max_speed:\n",
    "            print(\"%s is better than %s\" %(self.model, car2.model))\n",
    "        else:\n",
    "            print(\"%s is better than %s\" %(car2.model, self.model))\n",
    "car1=Car('sd','red',542)   \n",
    "car2=Car('sdg','green',425)   \n",
    "car1.compareCar(car2)\n",
    "car2.compareCar(car1)"
   ]
  },
  {
   "cell_type": "code",
   "execution_count": 55,
   "metadata": {},
   "outputs": [
    {
     "name": "stdout",
     "output_type": "stream",
     "text": [
      "91.2\n",
      "Welcome to your car, asd\n"
     ]
    }
   ],
   "source": [
    "#Problem 5\n",
    "class Police_car:\n",
    "    tex_value=0.2\n",
    "    def __init__(self, owner,price, pass_code):\n",
    "        self.owner=owner\n",
    "        self.price=price\n",
    "        self.__pass_code=pass_code\n",
    "    def tex(self):\n",
    "        return self.price*self.tex_value\n",
    "    def greating(self):\n",
    "        if self.__pass_code==\"admin\":\n",
    "            print('Welcome to your car,', self.owner)\n",
    "        \n",
    "    def set_code(self, new_pass_code):\n",
    "        self.__pass_code = new_pass_code\n",
    "    \n",
    "    def get_code(self):\n",
    "        return self.__pass_code\n",
    "x=Police_car('asd', 456, \"admin\")   \n",
    "print( x.tex())\n",
    "x.greating()\n",
    "    "
   ]
  },
  {
   "cell_type": "code",
   "execution_count": 60,
   "metadata": {},
   "outputs": [],
   "source": [
    "#Problem 6\n",
    "class Animal:\n",
    "    def __init__(self, name):\n",
    "        self.name=name\n",
    "    def move(self):\n",
    "        print(\"I can move\")\n"
   ]
  },
  {
   "cell_type": "code",
   "execution_count": 61,
   "metadata": {},
   "outputs": [
    {
     "name": "stdout",
     "output_type": "stream",
     "text": [
      "I can move\n"
     ]
    }
   ],
   "source": [
    "class Dog(Animal):\n",
    "    def __init__(self):\n",
    "        Animal.__init__(self,'Dog')\n",
    "dog1= Dog()\n",
    "dog1. move()"
   ]
  },
  {
   "cell_type": "code",
   "execution_count": 62,
   "metadata": {},
   "outputs": [
    {
     "name": "stdout",
     "output_type": "stream",
     "text": [
      "I can run really fast\n"
     ]
    }
   ],
   "source": [
    "class Dog(Animal):\n",
    "    def __init__(self):\n",
    "        Animal.__init__(self,'Dog')\n",
    "    def move(self):\n",
    "        print('I can run really fast')\n",
    "dog1= Dog()\n",
    "dog1. move()"
   ]
  },
  {
   "cell_type": "code",
   "execution_count": 63,
   "metadata": {},
   "outputs": [],
   "source": [
    "#Problem 7\n",
    "class Animals:\n",
    "    def __init__(self,name,legs):\n",
    "        self.name=name\n",
    "        self.legs=legs\n",
    "    def getName(self):\n",
    "        print('My name is ', self.name)\n",
    "    def getLegs(self):\n",
    "        print('I have %s legs' %self.legs)\n",
    "        \n",
    "    "
   ]
  },
  {
   "cell_type": "code",
   "execution_count": 64,
   "metadata": {},
   "outputs": [
    {
     "name": "stdout",
     "output_type": "stream",
     "text": [
      "My name is  Exnik\n",
      "I have 4 legs\n"
     ]
    }
   ],
   "source": [
    "class Exnik(Animals):\n",
    "    def __init__(self):\n",
    "        super().__init__('Exnik',4)\n",
    "y=Exnik()\n",
    "y.getName()\n",
    "y.getLegs()"
   ]
  },
  {
   "cell_type": "code",
   "execution_count": 65,
   "metadata": {},
   "outputs": [],
   "source": [
    "#Problem 8\n",
    "from abc import ABC,abstractmethod\n",
    "class Bird(ABC):\n",
    "    def __init__(self, name,weight):\n",
    "        self.name=name\n",
    "        self.weight=weight\n",
    "        super().__init__()\n",
    "    @abstractmethod\n",
    "    def fly():\n",
    "        pass\n"
   ]
  },
  {
   "cell_type": "code",
   "execution_count": 67,
   "metadata": {},
   "outputs": [
    {
     "name": "stdout",
     "output_type": "stream",
     "text": [
      "I believe I can fly\n"
     ]
    }
   ],
   "source": [
    "class Hav(Bird):\n",
    "    def __init__(self, name, weight): \n",
    "        super().__init__(name, weight)\n",
    "    def fly(self):\n",
    "        print('I believe I can fly')\n",
    "hav=Hav('hav',2.5)\n",
    "hav.fly()"
   ]
  }
 ],
 "metadata": {
  "kernelspec": {
   "display_name": "Python 3",
   "language": "python",
   "name": "python3"
  },
  "language_info": {
   "codemirror_mode": {
    "name": "ipython",
    "version": 3
   },
   "file_extension": ".py",
   "mimetype": "text/x-python",
   "name": "python",
   "nbconvert_exporter": "python",
   "pygments_lexer": "ipython3",
   "version": "3.7.4"
  }
 },
 "nbformat": 4,
 "nbformat_minor": 2
}
