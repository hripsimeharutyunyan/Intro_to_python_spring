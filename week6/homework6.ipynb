{
 "cells": [
  {
   "cell_type": "code",
   "execution_count": 5,
   "metadata": {},
   "outputs": [
    {
     "name": "stdout",
     "output_type": "stream",
     "text": [
      "Welcome dear Anna\n",
      "Bye everyone!\n",
      "My favourite number is 45\n",
      "avdfbnghm jk,\n"
     ]
    }
   ],
   "source": [
    "#Problem 1\n",
    "class Person:\n",
    "    def __init__(self,name,last_name, age, gender, student, password):\n",
    "        self.name=name\n",
    "        self.last_name=last_name\n",
    "        self.age=age\n",
    "        self.gender=gender\n",
    "        self.student=student\n",
    "        self.__password=password\n",
    "    def Greeting(self, second_person):\n",
    "        print('Welcome dear %s'%second_person.name)\n",
    "    def Goodbye (self):\n",
    "        print(\"Bye everyone!\")\n",
    "    def Favourite_num(self, num1:int):\n",
    "        return \"My favourite number is \"+str(num1)\n",
    "    def Read_file(self, filename):\n",
    "        f=filename+\".txt\"\n",
    "        file=open(f)\n",
    "        print(file.read())\n",
    "    \n",
    "    def set_cod(self, new_password):\n",
    "        self.__password=new_password\n",
    "    def get_cod(self):\n",
    "        return self.__password\n",
    "a=Person(\"Ani\",\"Harutyunyan\", 25,\"girl\", True, 12345) \n",
    "b=Person(\"Anna\",\"Safaryan\", 20,\"girl\", True, 127892) \n",
    "a.Greeting(b)\n",
    "a.Goodbye()\n",
    "print(b.Favourite_num(45))        \n",
    "a.Read_file(\"test\")\n",
    "        "
   ]
  },
  {
   "cell_type": "code",
   "execution_count": 4,
   "metadata": {},
   "outputs": [
    {
     "name": "stdout",
     "output_type": "stream",
     "text": [
      "8\n",
      "-2\n",
      "15\n",
      "0.6\n"
     ]
    }
   ],
   "source": [
    "#Problem 2\n",
    "class Calculation:\n",
    "    def __init__(self, x, y):\n",
    "        self.x=x\n",
    "        self.y=y\n",
    "    def addition(self):\n",
    "        print(self.x+self.y)\n",
    "    def subtraction(self):\n",
    "        print(self.x-self.y)\n",
    "        \n",
    "class MyCalculation(Calculation):\n",
    "    def __init__(self, x, y):\n",
    "        super().__init__(x,y)\n",
    "    \n",
    "    def multiplication(self):\n",
    "        print(self.x*self.y)\n",
    "    def division(self):\n",
    "        print(self.x/self.y)\n",
    "        \n",
    "x=MyCalculation(3,5)\n",
    "x.addition()\n",
    "x.subtraction()\n",
    "x.multiplication()\n",
    "x.division()"
   ]
  },
  {
   "cell_type": "code",
   "execution_count": 3,
   "metadata": {},
   "outputs": [
    {
     "name": "stdout",
     "output_type": "stream",
     "text": [
      "The current time is 12pm\n",
      "The current date is 13.03.2013\n"
     ]
    }
   ],
   "source": [
    "#Problem 3\n",
    "class My_Time:\n",
    "    def __init__(self, t):\n",
    "        self.t=t\n",
    "    def printTime(self):\n",
    "        print(\"The current time is %s\"%self.t)\n",
    "class My_Date:\n",
    "    def __init__(self, d):\n",
    "        self.d=d\n",
    "    def printDate(self):\n",
    "        print(\"The current date is %s\"%self.d)\n",
    "class Date_Time(My_Time,My_Date):\n",
    "    def __init__(self,t,d):\n",
    "        My_Time.__init__(self, d)\n",
    "        My_Date.__init__(self, t)\n",
    "        \n",
    "td=Date_Time(\"13.03.2013\",\"12pm\")\n",
    "td.printTime()\n",
    "td.printDate()\n",
    "    "
   ]
  },
  {
   "cell_type": "code",
   "execution_count": 1,
   "metadata": {},
   "outputs": [
    {
     "name": "stdout",
     "output_type": "stream",
     "text": [
      "The model of the vehicle is BMW \n",
      "The color of the vehicle is  red\n"
     ]
    }
   ],
   "source": [
    "#Problem 4\n",
    "class Model:\n",
    "    def __init__(self, name):\n",
    "        self.name=name\n",
    "    def printModel(self):\n",
    "        print('The model of the vehicle is %s '% self.name)\n",
    "class Color:\n",
    "    def __init__(self, color):\n",
    "        self.color=color\n",
    "    def printColor(self):\n",
    "        print('The color of the vehicle is ',self.color)\n",
    "class Car(Model,Color):\n",
    "    def __init__(self, name, color):\n",
    "        Model.__init__(self,name)\n",
    "        Color.__init__(self,color)\n",
    "car1=Car(\"BMW\",\"red\")\n",
    "car1.printModel()\n",
    "car1.printColor()"
   ]
  },
  {
   "cell_type": "code",
   "execution_count": null,
   "metadata": {},
   "outputs": [],
   "source": []
  }
 ],
 "metadata": {
  "kernelspec": {
   "display_name": "Python 3",
   "language": "python",
   "name": "python3"
  },
  "language_info": {
   "codemirror_mode": {
    "name": "ipython",
    "version": 3
   },
   "file_extension": ".py",
   "mimetype": "text/x-python",
   "name": "python",
   "nbconvert_exporter": "python",
   "pygments_lexer": "ipython3",
   "version": "3.7.4"
  }
 },
 "nbformat": 4,
 "nbformat_minor": 2
}
